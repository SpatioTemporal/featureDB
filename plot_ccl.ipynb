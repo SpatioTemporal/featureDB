{
 "cells": [
  {
   "cell_type": "code",
   "execution_count": null,
   "id": "b6f580e3",
   "metadata": {},
   "outputs": [],
   "source": [
    "%matplotlib widget\n",
    "import matplotlib.pyplot as plt\n",
    "import matplotlib\n",
    "import numpy\n",
    "import pickle\n",
    "import cartopy\n",
    "import rasterio\n",
    "import glob"
   ]
  },
  {
   "cell_type": "code",
   "execution_count": 2,
   "id": "859ba650",
   "metadata": {},
   "outputs": [],
   "source": [
    "from mpl_toolkits.basemap import Basemap"
   ]
  },
  {
   "cell_type": "code",
   "execution_count": 3,
   "id": "aee15c9a-76f6-4270-a1db-4651d8473162",
   "metadata": {},
   "outputs": [],
   "source": [
    "data_dir = '/tablespace/xcal/'"
   ]
  },
  {
   "cell_type": "code",
   "execution_count": 4,
   "id": "9a4fc48c",
   "metadata": {},
   "outputs": [],
   "source": [
    "with open(f'{data_dir}/pickles/largest_20.pickle', 'rb') as f:\n",
    "    largest = pickle.load(f)\n",
    "\n",
    "with open(f'{data_dir}/pickles/timestamps.pickle', 'rb') as f:\n",
    "    timestamps = pickle.load(f)"
   ]
  },
  {
   "cell_type": "code",
   "execution_count": 5,
   "id": "54b692ea",
   "metadata": {},
   "outputs": [],
   "source": [
    "largest = numpy.ma.masked_where(largest==0, largest)"
   ]
  },
  {
   "cell_type": "code",
   "execution_count": 6,
   "id": "f03cb506-78a6-49e7-89f4-ba31bb69e499",
   "metadata": {
    "collapsed": true,
    "jupyter": {
     "outputs_hidden": true
    },
    "tags": []
   },
   "outputs": [
    {
     "ename": "KeyboardInterrupt",
     "evalue": "",
     "output_type": "error",
     "traceback": [
      "\u001b[0;31m---------------------------------------------------------------------------\u001b[0m",
      "\u001b[0;31mKeyboardInterrupt\u001b[0m                         Traceback (most recent call last)",
      "\u001b[0;32m/tmp/ipykernel_3026816/3976056565.py\u001b[0m in \u001b[0;36m<module>\u001b[0;34m\u001b[0m\n\u001b[0;32m----> 1\u001b[0;31m \u001b[0mlabel_names\u001b[0m\u001b[0;34m,\u001b[0m \u001b[0mcounts\u001b[0m \u001b[0;34m=\u001b[0m \u001b[0mnumpy\u001b[0m\u001b[0;34m.\u001b[0m\u001b[0munique\u001b[0m\u001b[0;34m(\u001b[0m\u001b[0mlargest\u001b[0m\u001b[0;34m,\u001b[0m \u001b[0mreturn_counts\u001b[0m\u001b[0;34m=\u001b[0m\u001b[0;32mTrue\u001b[0m\u001b[0;34m)\u001b[0m\u001b[0;34m\u001b[0m\u001b[0;34m\u001b[0m\u001b[0m\n\u001b[0m\u001b[1;32m      2\u001b[0m \u001b[0mpandas\u001b[0m\u001b[0;34m.\u001b[0m\u001b[0mDataFrame\u001b[0m\u001b[0;34m(\u001b[0m\u001b[0;34m{\u001b[0m\u001b[0;34m'label'\u001b[0m\u001b[0;34m:\u001b[0m \u001b[0mlabel_names\u001b[0m\u001b[0;34m,\u001b[0m \u001b[0;34m'size'\u001b[0m\u001b[0;34m:\u001b[0m \u001b[0mcounts\u001b[0m\u001b[0;34m}\u001b[0m\u001b[0;34m)\u001b[0m\u001b[0;34m\u001b[0m\u001b[0;34m\u001b[0m\u001b[0m\n",
      "\u001b[0;32m~/.conda/envs/ccl/lib/python3.9/site-packages/numpy/core/overrides.py\u001b[0m in \u001b[0;36munique\u001b[0;34m(*args, **kwargs)\u001b[0m\n",
      "\u001b[0;32m~/.conda/envs/ccl/lib/python3.9/site-packages/numpy/lib/arraysetops.py\u001b[0m in \u001b[0;36munique\u001b[0;34m(ar, return_index, return_inverse, return_counts, axis)\u001b[0m\n\u001b[1;32m    270\u001b[0m     \u001b[0mar\u001b[0m \u001b[0;34m=\u001b[0m \u001b[0mnp\u001b[0m\u001b[0;34m.\u001b[0m\u001b[0masanyarray\u001b[0m\u001b[0;34m(\u001b[0m\u001b[0mar\u001b[0m\u001b[0;34m)\u001b[0m\u001b[0;34m\u001b[0m\u001b[0;34m\u001b[0m\u001b[0m\n\u001b[1;32m    271\u001b[0m     \u001b[0;32mif\u001b[0m \u001b[0maxis\u001b[0m \u001b[0;32mis\u001b[0m \u001b[0;32mNone\u001b[0m\u001b[0;34m:\u001b[0m\u001b[0;34m\u001b[0m\u001b[0;34m\u001b[0m\u001b[0m\n\u001b[0;32m--> 272\u001b[0;31m         \u001b[0mret\u001b[0m \u001b[0;34m=\u001b[0m \u001b[0m_unique1d\u001b[0m\u001b[0;34m(\u001b[0m\u001b[0mar\u001b[0m\u001b[0;34m,\u001b[0m \u001b[0mreturn_index\u001b[0m\u001b[0;34m,\u001b[0m \u001b[0mreturn_inverse\u001b[0m\u001b[0;34m,\u001b[0m \u001b[0mreturn_counts\u001b[0m\u001b[0;34m)\u001b[0m\u001b[0;34m\u001b[0m\u001b[0;34m\u001b[0m\u001b[0m\n\u001b[0m\u001b[1;32m    273\u001b[0m         \u001b[0;32mreturn\u001b[0m \u001b[0m_unpack_tuple\u001b[0m\u001b[0;34m(\u001b[0m\u001b[0mret\u001b[0m\u001b[0;34m)\u001b[0m\u001b[0;34m\u001b[0m\u001b[0;34m\u001b[0m\u001b[0m\n\u001b[1;32m    274\u001b[0m \u001b[0;34m\u001b[0m\u001b[0m\n",
      "\u001b[0;32m~/.conda/envs/ccl/lib/python3.9/site-packages/numpy/lib/arraysetops.py\u001b[0m in \u001b[0;36m_unique1d\u001b[0;34m(ar, return_index, return_inverse, return_counts)\u001b[0m\n\u001b[1;32m    331\u001b[0m         \u001b[0maux\u001b[0m \u001b[0;34m=\u001b[0m \u001b[0mar\u001b[0m\u001b[0;34m[\u001b[0m\u001b[0mperm\u001b[0m\u001b[0;34m]\u001b[0m\u001b[0;34m\u001b[0m\u001b[0;34m\u001b[0m\u001b[0m\n\u001b[1;32m    332\u001b[0m     \u001b[0;32melse\u001b[0m\u001b[0;34m:\u001b[0m\u001b[0;34m\u001b[0m\u001b[0;34m\u001b[0m\u001b[0m\n\u001b[0;32m--> 333\u001b[0;31m         \u001b[0mar\u001b[0m\u001b[0;34m.\u001b[0m\u001b[0msort\u001b[0m\u001b[0;34m(\u001b[0m\u001b[0;34m)\u001b[0m\u001b[0;34m\u001b[0m\u001b[0;34m\u001b[0m\u001b[0m\n\u001b[0m\u001b[1;32m    334\u001b[0m         \u001b[0maux\u001b[0m \u001b[0;34m=\u001b[0m \u001b[0mar\u001b[0m\u001b[0;34m\u001b[0m\u001b[0;34m\u001b[0m\u001b[0m\n\u001b[1;32m    335\u001b[0m     \u001b[0mmask\u001b[0m \u001b[0;34m=\u001b[0m \u001b[0mnp\u001b[0m\u001b[0;34m.\u001b[0m\u001b[0mempty\u001b[0m\u001b[0;34m(\u001b[0m\u001b[0maux\u001b[0m\u001b[0;34m.\u001b[0m\u001b[0mshape\u001b[0m\u001b[0;34m,\u001b[0m \u001b[0mdtype\u001b[0m\u001b[0;34m=\u001b[0m\u001b[0mnp\u001b[0m\u001b[0;34m.\u001b[0m\u001b[0mbool_\u001b[0m\u001b[0;34m)\u001b[0m\u001b[0;34m\u001b[0m\u001b[0;34m\u001b[0m\u001b[0m\n",
      "\u001b[0;32m~/.conda/envs/ccl/lib/python3.9/site-packages/numpy/ma/core.py\u001b[0m in \u001b[0;36msort\u001b[0;34m(self, axis, kind, order, endwith, fill_value)\u001b[0m\n\u001b[1;32m   5656\u001b[0m             \u001b[0;32mreturn\u001b[0m\u001b[0;34m\u001b[0m\u001b[0;34m\u001b[0m\u001b[0m\n\u001b[1;32m   5657\u001b[0m \u001b[0;34m\u001b[0m\u001b[0m\n\u001b[0;32m-> 5658\u001b[0;31m         sidx = self.argsort(axis=axis, kind=kind, order=order,\n\u001b[0m\u001b[1;32m   5659\u001b[0m                             fill_value=fill_value, endwith=endwith)\n\u001b[1;32m   5660\u001b[0m \u001b[0;34m\u001b[0m\u001b[0m\n",
      "\u001b[0;32m~/.conda/envs/ccl/lib/python3.9/site-packages/numpy/ma/core.py\u001b[0m in \u001b[0;36margsort\u001b[0;34m(self, axis, kind, order, endwith, fill_value)\u001b[0m\n\u001b[1;32m   5489\u001b[0m                 \u001b[0mfill_value\u001b[0m \u001b[0;34m=\u001b[0m \u001b[0mmaximum_fill_value\u001b[0m\u001b[0;34m(\u001b[0m\u001b[0mself\u001b[0m\u001b[0;34m)\u001b[0m\u001b[0;34m\u001b[0m\u001b[0;34m\u001b[0m\u001b[0m\n\u001b[1;32m   5490\u001b[0m \u001b[0;34m\u001b[0m\u001b[0m\n\u001b[0;32m-> 5491\u001b[0;31m         \u001b[0mfilled\u001b[0m \u001b[0;34m=\u001b[0m \u001b[0mself\u001b[0m\u001b[0;34m.\u001b[0m\u001b[0mfilled\u001b[0m\u001b[0;34m(\u001b[0m\u001b[0mfill_value\u001b[0m\u001b[0;34m)\u001b[0m\u001b[0;34m\u001b[0m\u001b[0;34m\u001b[0m\u001b[0m\n\u001b[0m\u001b[1;32m   5492\u001b[0m         \u001b[0;32mreturn\u001b[0m \u001b[0mfilled\u001b[0m\u001b[0;34m.\u001b[0m\u001b[0margsort\u001b[0m\u001b[0;34m(\u001b[0m\u001b[0maxis\u001b[0m\u001b[0;34m=\u001b[0m\u001b[0maxis\u001b[0m\u001b[0;34m,\u001b[0m \u001b[0mkind\u001b[0m\u001b[0;34m=\u001b[0m\u001b[0mkind\u001b[0m\u001b[0;34m,\u001b[0m \u001b[0morder\u001b[0m\u001b[0;34m=\u001b[0m\u001b[0morder\u001b[0m\u001b[0;34m)\u001b[0m\u001b[0;34m\u001b[0m\u001b[0;34m\u001b[0m\u001b[0m\n\u001b[1;32m   5493\u001b[0m \u001b[0;34m\u001b[0m\u001b[0m\n",
      "\u001b[0;32m~/.conda/envs/ccl/lib/python3.9/site-packages/numpy/ma/core.py\u001b[0m in \u001b[0;36mfilled\u001b[0;34m(self, fill_value)\u001b[0m\n\u001b[1;32m   3796\u001b[0m             \u001b[0mresult\u001b[0m \u001b[0;34m=\u001b[0m \u001b[0mself\u001b[0m\u001b[0;34m.\u001b[0m\u001b[0m_data\u001b[0m\u001b[0;34m.\u001b[0m\u001b[0mcopy\u001b[0m\u001b[0;34m(\u001b[0m\u001b[0;34m'K'\u001b[0m\u001b[0;34m)\u001b[0m\u001b[0;34m\u001b[0m\u001b[0;34m\u001b[0m\u001b[0m\n\u001b[1;32m   3797\u001b[0m             \u001b[0;32mtry\u001b[0m\u001b[0;34m:\u001b[0m\u001b[0;34m\u001b[0m\u001b[0;34m\u001b[0m\u001b[0m\n\u001b[0;32m-> 3798\u001b[0;31m                 \u001b[0mnp\u001b[0m\u001b[0;34m.\u001b[0m\u001b[0mcopyto\u001b[0m\u001b[0;34m(\u001b[0m\u001b[0mresult\u001b[0m\u001b[0;34m,\u001b[0m \u001b[0mfill_value\u001b[0m\u001b[0;34m,\u001b[0m \u001b[0mwhere\u001b[0m\u001b[0;34m=\u001b[0m\u001b[0mm\u001b[0m\u001b[0;34m)\u001b[0m\u001b[0;34m\u001b[0m\u001b[0;34m\u001b[0m\u001b[0m\n\u001b[0m\u001b[1;32m   3799\u001b[0m             \u001b[0;32mexcept\u001b[0m \u001b[0;34m(\u001b[0m\u001b[0mTypeError\u001b[0m\u001b[0;34m,\u001b[0m \u001b[0mAttributeError\u001b[0m\u001b[0;34m)\u001b[0m\u001b[0;34m:\u001b[0m\u001b[0;34m\u001b[0m\u001b[0;34m\u001b[0m\u001b[0m\n\u001b[1;32m   3800\u001b[0m                 \u001b[0mfill_value\u001b[0m \u001b[0;34m=\u001b[0m \u001b[0mnarray\u001b[0m\u001b[0;34m(\u001b[0m\u001b[0mfill_value\u001b[0m\u001b[0;34m,\u001b[0m \u001b[0mdtype\u001b[0m\u001b[0;34m=\u001b[0m\u001b[0mobject\u001b[0m\u001b[0;34m)\u001b[0m\u001b[0;34m\u001b[0m\u001b[0;34m\u001b[0m\u001b[0m\n",
      "\u001b[0;32m~/.conda/envs/ccl/lib/python3.9/site-packages/numpy/core/overrides.py\u001b[0m in \u001b[0;36mcopyto\u001b[0;34m(*args, **kwargs)\u001b[0m\n",
      "\u001b[0;31mKeyboardInterrupt\u001b[0m: "
     ]
    }
   ],
   "source": [
    "label_names, counts = numpy.unique(largest, return_counts=True)\n",
    "pandas.DataFrame({'label': label_names, 'size': counts})"
   ]
  },
  {
   "cell_type": "markdown",
   "id": "ce5996dc-8fbc-4741-b3e6-c0e786b1b507",
   "metadata": {},
   "source": [
    "# Dump PNGs"
   ]
  },
  {
   "cell_type": "code",
   "execution_count": 7,
   "id": "02c92576-e51a-4a64-bb69-8d11d181d0b1",
   "metadata": {},
   "outputs": [],
   "source": [
    "def get_geotiff(timestamp, folder):\n",
    "    ts = timestamp.strftime('%Y-%m-%d_%H%M')    \n",
    "    file_path = glob.glob(f'{folder}/GOES16-ABI-CONUS-{ts}*.tif')[0]    \n",
    "    with rasterio.open(file_path) as src:\n",
    "        raster = src.read()\n",
    "        extent = (src.bounds[0], src.bounds[2], src.bounds[1], src.bounds[3])\n",
    "    raster = numpy.ma.masked_where(raster==0, raster)\n",
    "    raster = numpy.transpose(raster, (1, 2, 0))\n",
    "    return raster, extent"
   ]
  },
  {
   "cell_type": "markdown",
   "id": "48ee8d6c-f12f-4d1e-84bc-5efb6f1d9226",
   "metadata": {},
   "source": [
    "## Conus"
   ]
  },
  {
   "cell_type": "markdown",
   "id": "b9bdc772-2cca-450d-aec4-c2666fe66c49",
   "metadata": {},
   "source": [
    "## Pacus"
   ]
  },
  {
   "cell_type": "code",
   "execution_count": null,
   "id": "b44778f5-e383-42c5-8fea-60c6b8bebffd",
   "metadata": {},
   "outputs": [],
   "source": [
    "proj = cartopy.crs.PlateCarree()\n",
    "proj = cartopy.crs.epsg(2163) # US national Atlas equa area\n",
    "opts = {'projection': proj}\n",
    "fig, ax = plt.subplots(figsize=(10, 5), dpi=300, subplot_kw=opts)\n",
    "\n",
    "plot_data = largest\n",
    "\n",
    "folder = '/tablespace/xcal/geoColor/pacus/'\n",
    "\n",
    "timestamp = timestamps[0]\n",
    "raster, extent = get_geotiff(timestamp, folder)\n",
    "goes = ax.imshow(raster, origin='upper', extent=extent, transform=proj)\n",
    "ccl = ax.imshow(plot_data[0], cmap='tab20', vmin=1, vmax=21, interpolation='none', extent=[-180, 180, -90, 90], transform=proj)\n",
    "\n",
    "ax.set_title(timestamp)  \n",
    "ax.set_xlim(extent[0], extent[1])\n",
    "ax.set_ylim(extent[2], extent[3])\n",
    "\n",
    "n_labels = 20\n",
    "cbar = fig.colorbar(ccl, ax=ax, orientation='vertical')\n",
    "cbar.set_ticks(numpy.arange(1.5, n_labels+1.5,1) , labels=numpy.arange(1, n_labels+1, 1))\n",
    "\n",
    "for i in range(plot_data.shape[0])[0:1]:\n",
    "    timestamp = timestamps[i]\n",
    "    print(timestamp)\n",
    "    try:\n",
    "        raster, extent = get_geotiff(timestamp)\n",
    "    except:\n",
    "        print(f'No geotiff for {timestamp}')\n",
    "    goes.set_array(raster)\n",
    "    ccl.set_array(plot_data[i])\n",
    "    \n",
    "    ax.set_title(timestamps[i])    \n",
    "    fig.savefig(f'{data_dir}/animations/ccl_pacus/{timestamps[i]}.png', bbox_inches='tight')"
   ]
  },
  {
   "cell_type": "markdown",
   "id": "f09b10ca-9689-4f56-8f28-24659523fb13",
   "metadata": {},
   "source": [
    "## Global"
   ]
  },
  {
   "cell_type": "code",
   "execution_count": null,
   "id": "9e5c96f7-8be3-4784-bc87-25dda9eaedc3",
   "metadata": {},
   "outputs": [],
   "source": [
    "proj = cartopy.crs.PlateCarree()\n",
    "opts = {'projection': proj}\n",
    "\n",
    "fig, ax = plt.subplots(figsize=(10, 5), dpi=300, subplot_kw=opts)\n",
    "\n",
    "plot_data = largest\n",
    "\n",
    "m = Basemap(projection='cyl')\n",
    "m.bluemarble(alpha=0.7)\n",
    "m.drawparallels(numpy.arange(-90.,120.,30.), linewidth=0.1)\n",
    "m.drawmeridians(numpy.arange(0, 360, 30), linewidth=0.1)\n",
    "\n",
    "ccl = ax.imshow(plot_data[0], cmap='tab20', vmin=1, vmax=21, interpolation='none', extent=[-180, 180, -90, 90], transform=proj)\n",
    "\n",
    "n_labels = 20\n",
    "cbar = fig.colorbar(im, ax=ax, orientation='vertical')\n",
    "cbar.set_ticks(numpy.arange(1.5, n_labels+1.5,1) , labels=numpy.arange(1, n_labels+1, 1))\n",
    "\n",
    "for i in range(plot_data.shape[0]):\n",
    "    timestamp = timestamps[i]\n",
    "    print(timestamp)\n",
    "    ccl.set_array(plot_data[i])    \n",
    "    ax.set_title(timestamp)    \n",
    "    fig.savefig(f'{data_dir}/animations/ccl/{timestamps[i]}.png', bbox_inches='tight')"
   ]
  },
  {
   "cell_type": "code",
   "execution_count": null,
   "id": "e62f9124",
   "metadata": {},
   "outputs": [],
   "source": []
  }
 ],
 "metadata": {
  "kernelspec": {
   "display_name": "ccl",
   "language": "python",
   "name": "ccl"
  },
  "language_info": {
   "codemirror_mode": {
    "name": "ipython",
    "version": 3
   },
   "file_extension": ".py",
   "mimetype": "text/x-python",
   "name": "python",
   "nbconvert_exporter": "python",
   "pygments_lexer": "ipython3",
   "version": "3.10.6"
  }
 },
 "nbformat": 4,
 "nbformat_minor": 5
}
