{
 "cells": [
  {
   "cell_type": "code",
   "execution_count": 3,
   "id": "f8dcd848-7690-4619-88fe-9a65d50e844d",
   "metadata": {},
   "outputs": [],
   "source": [
    "import pandas\n",
    "import starepandas\n",
    "import pystare\n",
    "import netCDF4\n",
    "import pickle"
   ]
  },
  {
   "cell_type": "code",
   "execution_count": 18,
   "id": "33439d9e-2687-49f3-bece-d0caac9b86cc",
   "metadata": {},
   "outputs": [],
   "source": [
    "n_workers = 4"
   ]
  },
  {
   "cell_type": "markdown",
   "id": "62e7348e-3ec5-483d-8553-f067bcff0785",
   "metadata": {},
   "source": [
    "# Load Labels"
   ]
  },
  {
   "cell_type": "code",
   "execution_count": 5,
   "id": "f3b70d41-1f15-40e2-9797-999feb346e6e",
   "metadata": {},
   "outputs": [],
   "source": [
    "with open('pickles/largest.pickle', 'rb') as f:\n",
    "    largest = pickle.load(f)\n",
    "\n",
    "with open('pickles/labels.pickle', 'rb') as f:\n",
    "    labels_out = pickle.load(f)\n",
    "    \n",
    "with open('pickles/timestamps.pickle', 'rb') as f:\n",
    "    timestamps = pickle.load(f)"
   ]
  },
  {
   "cell_type": "markdown",
   "id": "e03145de-666f-45d3-a41d-9692ad5d5952",
   "metadata": {},
   "source": [
    "# Load STARE Sidecar"
   ]
  },
  {
   "cell_type": "code",
   "execution_count": 6,
   "id": "98c9ec21-6c76-433d-bf36-bf6c3057b5cb",
   "metadata": {},
   "outputs": [],
   "source": [
    "sidecar = netCDF4.Dataset('data/IMERG_stare.nc')['STARE_index'][:].data\n",
    "sidecar = sidecar.astype('int64')\n",
    "sidecar = sidecar.T\n",
    "sidecar = pystare.spatial_coerce_resolution(sidecar, 9)"
   ]
  },
  {
   "cell_type": "markdown",
   "id": "7d54afaf-fab3-4fd2-a2e2-07a75a7de042",
   "metadata": {},
   "source": [
    "# Create STAREDF"
   ]
  },
  {
   "cell_type": "code",
   "execution_count": 15,
   "id": "3b077dbd-c4dd-4627-8820-2e7b7404769e",
   "metadata": {},
   "outputs": [],
   "source": [
    "def make_row(label, timestep):\n",
    "    sids = sidecar[largest[timestep]==label]\n",
    "    row = {'sids': sids, 'timestamp' : timestamps[timestep], 'label': label, 'timestep': timestep}    \n",
    "    return row\n",
    "\n",
    "label = 1\n",
    "\n",
    "rows = []\n",
    "for timestep in range(len(timestamps)):\n",
    "    row = make_row(label=label, timestep=timestep)\n",
    "    rows.append(row)\n",
    "\n",
    "sdf = starepandas.STAREDataFrame(rows, sids='sids')"
   ]
  },
  {
   "cell_type": "code",
   "execution_count": 19,
   "id": "87c5f82f-fcda-496c-83e2-3e8cd01643c7",
   "metadata": {},
   "outputs": [],
   "source": [
    "sdf = sdf.stare_dissolve(by='timestep', n_workers=n_workers).reset_index()"
   ]
  },
  {
   "cell_type": "code",
   "execution_count": 20,
   "id": "dbbff214-c853-47e4-ad45-d29714dbf053",
   "metadata": {},
   "outputs": [],
   "source": [
    "trixels = sdf.make_trixels(n_workers=n_workers)\n",
    "sdf.set_trixels(trixels, inplace=True)"
   ]
  },
  {
   "cell_type": "code",
   "execution_count": 21,
   "id": "3ba68831-e83f-4876-bb21-67bb17abc8e3",
   "metadata": {},
   "outputs": [
    {
     "data": {
      "text/html": [
       "<div>\n",
       "<style scoped>\n",
       "    .dataframe tbody tr th:only-of-type {\n",
       "        vertical-align: middle;\n",
       "    }\n",
       "\n",
       "    .dataframe tbody tr th {\n",
       "        vertical-align: top;\n",
       "    }\n",
       "\n",
       "    .dataframe thead th {\n",
       "        text-align: right;\n",
       "    }\n",
       "</style>\n",
       "<table border=\"1\" class=\"dataframe\">\n",
       "  <thead>\n",
       "    <tr style=\"text-align: right;\">\n",
       "      <th></th>\n",
       "      <th>timestep</th>\n",
       "      <th>sids</th>\n",
       "      <th>timestamp</th>\n",
       "      <th>label</th>\n",
       "      <th>trixels</th>\n",
       "    </tr>\n",
       "  </thead>\n",
       "  <tbody>\n",
       "    <tr>\n",
       "      <th>0</th>\n",
       "      <td>0</td>\n",
       "      <td>[887349864080343048, 887358660173365256, 88737...</td>\n",
       "      <td>2021-01-10 00:00:00</td>\n",
       "      <td>1</td>\n",
       "      <td>MULTIPOLYGON (((173.10570 22.28556, 173.29270 ...</td>\n",
       "    </tr>\n",
       "    <tr>\n",
       "      <th>1</th>\n",
       "      <td>1</td>\n",
       "      <td>[887349864080343048, 887358660173365256, 88737...</td>\n",
       "      <td>2021-01-10 00:30:00</td>\n",
       "      <td>1</td>\n",
       "      <td>MULTIPOLYGON (((173.10570 22.28556, 173.29270 ...</td>\n",
       "    </tr>\n",
       "    <tr>\n",
       "      <th>2</th>\n",
       "      <td>2</td>\n",
       "      <td>[887349864080343049, 887352063103598601, 88735...</td>\n",
       "      <td>2021-01-10 01:00:00</td>\n",
       "      <td>1</td>\n",
       "      <td>MULTIPOLYGON (((173.10570 22.28556, 173.19910 ...</td>\n",
       "    </tr>\n",
       "    <tr>\n",
       "      <th>3</th>\n",
       "      <td>3</td>\n",
       "      <td>[887352063103598601, 887358660173365257, 88736...</td>\n",
       "      <td>2021-01-10 01:30:00</td>\n",
       "      <td>1</td>\n",
       "      <td>MULTIPOLYGON (((173.29270 22.59424, 173.11849 ...</td>\n",
       "    </tr>\n",
       "    <tr>\n",
       "      <th>4</th>\n",
       "      <td>4</td>\n",
       "      <td>[885524674778234889, 885537868917768201, 88554...</td>\n",
       "      <td>2021-01-10 02:00:00</td>\n",
       "      <td>1</td>\n",
       "      <td>MULTIPOLYGON (((177.75804 23.25625, 177.58593 ...</td>\n",
       "    </tr>\n",
       "  </tbody>\n",
       "</table>\n",
       "</div>"
      ],
      "text/plain": [
       "   timestep                                               sids  \\\n",
       "0         0  [887349864080343048, 887358660173365256, 88737...   \n",
       "1         1  [887349864080343048, 887358660173365256, 88737...   \n",
       "2         2  [887349864080343049, 887352063103598601, 88735...   \n",
       "3         3  [887352063103598601, 887358660173365257, 88736...   \n",
       "4         4  [885524674778234889, 885537868917768201, 88554...   \n",
       "\n",
       "            timestamp  label  \\\n",
       "0 2021-01-10 00:00:00      1   \n",
       "1 2021-01-10 00:30:00      1   \n",
       "2 2021-01-10 01:00:00      1   \n",
       "3 2021-01-10 01:30:00      1   \n",
       "4 2021-01-10 02:00:00      1   \n",
       "\n",
       "                                             trixels  \n",
       "0  MULTIPOLYGON (((173.10570 22.28556, 173.29270 ...  \n",
       "1  MULTIPOLYGON (((173.10570 22.28556, 173.29270 ...  \n",
       "2  MULTIPOLYGON (((173.10570 22.28556, 173.19910 ...  \n",
       "3  MULTIPOLYGON (((173.29270 22.59424, 173.11849 ...  \n",
       "4  MULTIPOLYGON (((177.75804 23.25625, 177.58593 ...  "
      ]
     },
     "execution_count": 21,
     "metadata": {},
     "output_type": "execute_result"
    }
   ],
   "source": [
    "sdf.head()"
   ]
  },
  {
   "cell_type": "code",
   "execution_count": 11,
   "id": "34b70313-e42e-4537-ae7f-f11994007ba7",
   "metadata": {},
   "outputs": [],
   "source": [
    "with open('pickles/featuredb.pickle', 'wb') as f:\n",
    "    pickle.dump(sdf, f)"
   ]
  },
  {
   "cell_type": "code",
   "execution_count": null,
   "id": "f0d3aa65-3ad1-41ff-ae81-2401d1e62813",
   "metadata": {},
   "outputs": [],
   "source": []
  }
 ],
 "metadata": {
  "kernelspec": {
   "display_name": "Python 3 (ipykernel)",
   "language": "python",
   "name": "python3"
  },
  "language_info": {
   "codemirror_mode": {
    "name": "ipython",
    "version": 3
   },
   "file_extension": ".py",
   "mimetype": "text/x-python",
   "name": "python",
   "nbconvert_exporter": "python",
   "pygments_lexer": "ipython3",
   "version": "3.9.9"
  }
 },
 "nbformat": 4,
 "nbformat_minor": 5
}
