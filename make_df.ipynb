{
 "cells": [
  {
   "cell_type": "code",
   "execution_count": 2,
   "id": "d8bbc4d9",
   "metadata": {},
   "outputs": [],
   "source": [
    "import os\n",
    "os.environ['PROJ_LIB'] = '/usr/local/share/proj/'\n",
    "\n",
    "import pandas\n",
    "import starepandas\n",
    "import pystare\n",
    "import netCDF4\n",
    "import pickle\n",
    "import numpy\n",
    "import shapely\n",
    "import geopandas\n",
    "import starepandas\n",
    "import sqlalchemy\n",
    "import dask"
   ]
  },
  {
   "cell_type": "code",
   "execution_count": 3,
   "id": "f7dcf961",
   "metadata": {},
   "outputs": [],
   "source": [
    "n_workers = 62\n",
    "data_dir = '/tablespace/xcal/'"
   ]
  },
  {
   "cell_type": "code",
   "execution_count": 4,
   "id": "fcde5f01",
   "metadata": {},
   "outputs": [
    {
     "data": {
      "text/plain": [
       "'0.5.31'"
      ]
     },
     "execution_count": 4,
     "metadata": {},
     "output_type": "execute_result"
    }
   ],
   "source": [
    "starepandas.__version__"
   ]
  },
  {
   "cell_type": "markdown",
   "id": "0b04d759",
   "metadata": {},
   "source": [
    "# Load Labels"
   ]
  },
  {
   "cell_type": "code",
   "execution_count": 5,
   "id": "256d4344",
   "metadata": {},
   "outputs": [],
   "source": [
    "with open('{}/pickles/timestamps.pickle'.format(data_dir), 'rb') as f:\n",
    "    timestamps = pickle.load(f)\n",
    "    \n",
    "with open('{}/pickles/data.pickle'.format(data_dir), 'rb') as f:\n",
    "    data = pickle.load(f)\n",
    "\n",
    "with open('{}/pickles/largest_100.pickle'.format(data_dir), 'rb') as f:\n",
    "    labels = pickle.load(f)\n",
    "    \n",
    "#with open('{}/pickles/labels.pickle'.format(data_dir), 'rb') as f:\n",
    "#    labels = pickle.load(f)"
   ]
  },
  {
   "cell_type": "code",
   "execution_count": 6,
   "id": "0eadbefb",
   "metadata": {},
   "outputs": [],
   "source": [
    "#length = 10\n",
    "#timestamps = timestamps[0:length]\n",
    "#labels = labels[0:length]\n",
    "#data = data[0:length]"
   ]
  },
  {
   "cell_type": "markdown",
   "id": "61d085e1",
   "metadata": {},
   "source": [
    "# Load STARE Sidecar"
   ]
  },
  {
   "cell_type": "markdown",
   "id": "c74a2962-ed92-4a13-b4e6-c569d5ed8c02",
   "metadata": {},
   "source": [
    "## Adapt in lat direction"
   ]
  },
  {
   "cell_type": "code",
   "execution_count": 7,
   "id": "6a7dae08-2369-4331-be17-582461f63961",
   "metadata": {},
   "outputs": [],
   "source": [
    "lats = numpy.tile(numpy.arange(-89.95, 90, 0.1), (3600, 1))\n",
    "lats = numpy.ascontiguousarray(numpy.flip(lats).transpose())\n",
    "\n",
    "lons = numpy.tile(numpy.arange(-179.95, 180, 0.1), (1800, 1))\n",
    "lons = numpy.ascontiguousarray(lons)\n",
    "\n",
    "sids = pystare.from_latlon_2d(lats, lons, adapt_level=True)\n",
    "res = pystare.spatial_resolution(sids)\n",
    "sidecar = pystare.spatial_coerce_resolution(sids, res-1)"
   ]
  },
  {
   "cell_type": "markdown",
   "id": "f83a38a1-d18c-4916-aa84-b9e497daf226",
   "metadata": {},
   "source": [
    "## Adapt in lon direction"
   ]
  },
  {
   "cell_type": "code",
   "execution_count": 8,
   "id": "8ea75a3e-1f5b-483a-8c69-0909d56e4892",
   "metadata": {},
   "outputs": [],
   "source": [
    "lats = numpy.tile(numpy.arange(-89.95, 90, 0.1), (3600, 1))\n",
    "lats = numpy.ascontiguousarray(numpy.flip(lats))\n",
    "\n",
    "lons = numpy.tile(numpy.arange(-179.95, 180, 0.1), (1800, 1))\n",
    "lons = numpy.ascontiguousarray(lons.transpose())\n",
    "\n",
    "sids = pystare.from_latlon_2d(lats, lons, adapt_level=True).transpose()\n",
    "res = pystare.spatial_resolution(sids)\n",
    "sidecar = pystare.spatial_coerce_resolution(sids, res-1)"
   ]
  },
  {
   "cell_type": "markdown",
   "id": "aecfaaf3",
   "metadata": {},
   "source": [
    "# Create Areas with haversine formula:\n",
    "\n",
    "- We assume one degree latitude to be constantly ```R * Δφ```. For 0.1 degrees, this is +-11 km\n",
    "- The 0.1 degree\n",
    "\n",
    "```\n",
    "a = sin²(Δφ/2) + cos φ1 ⋅ cos φ2 ⋅ sin²(Δλ/2)\n",
    "c = 2 ⋅ atan2( √a, √(1−a) )\n",
    "d = R ⋅ c\n",
    "```"
   ]
  },
  {
   "cell_type": "code",
   "execution_count": 9,
   "id": "bebc9f2b",
   "metadata": {},
   "outputs": [],
   "source": [
    "def lon_dist(lats, r, delta_lon):    \n",
    "    a = numpy.cos(numpy.radians(lats))**2 * numpy.sin(numpy.radians(delta_lon))**2\n",
    "    c = numpy.arctan2(numpy.sqrt(a), numpy.sqrt(1-a))\n",
    "    d_lon = r*c \n",
    "    return d_lon\n",
    "\n",
    "r = 6371e3\n",
    "\n",
    "lats0 = numpy.ascontiguousarray(numpy.tile(numpy.arange(-90, 90, 0.1), (3600, 1)).transpose())\n",
    "lats1 = numpy.ascontiguousarray(numpy.tile(numpy.arange(-89.9, 90.1, 0.1), (3600, 1)).transpose())\n",
    "\n",
    "delta_lon = 0.1\n",
    "a = lon_dist(lats0, r, delta_lon)\n",
    "b = lon_dist(lats1, r, delta_lon)\n",
    "\n",
    "delta_lat = 0.1\n",
    "h = r * numpy.radians(delta_lat) \n",
    "areas = (a+b)/2 * h # square meters"
   ]
  },
  {
   "cell_type": "markdown",
   "id": "7045b2d7",
   "metadata": {},
   "source": [
    "# Create STAREDF"
   ]
  },
  {
   "cell_type": "code",
   "execution_count": 10,
   "id": "38b294ed",
   "metadata": {},
   "outputs": [],
   "source": [
    "def make_row(label, timestep):\n",
    "    x, y = (labels[timestep]==label).nonzero()\n",
    "    sids = sidecar[x, y]\n",
    "    area = areas[x, y]\n",
    "    precip = data[timestep, x, y]\n",
    "    tot_precip = sum(area * precip/1000/2) # Convert from mm to m and multipy by two because it is a half-hour\n",
    "    row = {'label': label,            \n",
    "           'timestep': timestep, \n",
    "           'timestamp': timestamps[timestep],                                  \n",
    "           'x': x, 'y': y,\n",
    "           'cell_areas': area,\n",
    "           'tot_area':  sum(areas[x, y]),\n",
    "           'precips': precip,           \n",
    "           'tot_precip': tot_precip, # cubic meters\n",
    "           'sids': sids}\n",
    "    return row\n",
    "\n",
    "def make_label_sdf(label):\n",
    "    rows = []\n",
    "    for timestep in range(len(timestamps)):\n",
    "        row = make_row(label=label, timestep=timestep)\n",
    "        if len(row['sids']) > 0:\n",
    "            rows.append(row)\n",
    "    sdf = starepandas.STAREDataFrame(rows, sids='sids')\n",
    "    return sdf"
   ]
  },
  {
   "cell_type": "code",
   "execution_count": 11,
   "id": "f3fdc92d",
   "metadata": {},
   "outputs": [
    {
     "data": {
      "text/plain": [
       "array([  1,   2,   3,   4,   5,   6,   7,   8,   9,  10,  11,  12,  13,\n",
       "        14,  15,  16,  17,  18,  19,  20,  21,  22,  23,  24,  25,  26,\n",
       "        27,  28,  29,  30,  31,  32,  33,  34,  35,  36,  37,  38,  39,\n",
       "        40,  41,  42,  43,  44,  45,  46,  47,  48,  49,  50,  51,  52,\n",
       "        53,  54,  55,  56,  57,  58,  59,  60,  61,  62,  63,  64,  65,\n",
       "        66,  67,  68,  69,  70,  71,  72,  73,  74,  75,  76,  77,  78,\n",
       "        79,  80,  81,  82,  83,  84,  85,  86,  87,  88,  89,  90,  91,\n",
       "        92,  93,  94,  95,  96,  97,  98,  99, 100], dtype=uint32)"
      ]
     },
     "execution_count": 11,
     "metadata": {},
     "output_type": "execute_result"
    }
   ],
   "source": [
    "label_names = numpy.unique(labels[labels>0])\n",
    "label_names"
   ]
  },
  {
   "cell_type": "code",
   "execution_count": null,
   "id": "9a79f9c9",
   "metadata": {
    "tags": []
   },
   "outputs": [
    {
     "name": "stdout",
     "output_type": "stream",
     "text": [
      "1\n"
     ]
    }
   ],
   "source": [
    "sdfs = []\n",
    "for label in label_names:\n",
    "    print(label)\n",
    "    sdf = make_label_sdf(label=label)\n",
    "    cover = sdf.stare_dissolve(by='timestep', num_workers=n_workers*10)['sids'].rename('cover')\n",
    "    sdf = sdf.set_index('timestep').join(cover)    \n",
    "    sdfs.append(sdf)"
   ]
  },
  {
   "cell_type": "code",
   "execution_count": null,
   "id": "e3da8054",
   "metadata": {
    "scrolled": true
   },
   "outputs": [],
   "source": [
    "merged = pandas.concat(sdfs, ignore_index=True)\n",
    "merged.set_sids('cover', inplace=True)"
   ]
  },
  {
   "cell_type": "code",
   "execution_count": null,
   "id": "eadb5c25-adbd-45b8-98a4-e40145efb502",
   "metadata": {},
   "outputs": [],
   "source": [
    "with open(f'{data_dir}/pickles/featuredb.pickle', 'wb') as f:\n",
    "    pickle.dump(merged, f)"
   ]
  },
  {
   "cell_type": "code",
   "execution_count": null,
   "id": "bccaaee8-b2eb-4ab7-a94a-1f0778bdfc5a",
   "metadata": {},
   "outputs": [],
   "source": [
    "with open(f'{data_dir}/pickles/featuredb.pickle', 'rb') as f:\n",
    "    merged = pickle.load( f)"
   ]
  },
  {
   "cell_type": "markdown",
   "id": "e85c82d0-d40c-4783-9990-74b48ea43296",
   "metadata": {},
   "source": [
    "# Making geometries"
   ]
  },
  {
   "cell_type": "code",
   "execution_count": null,
   "id": "b368e2aa",
   "metadata": {
    "scrolled": true,
    "tags": []
   },
   "outputs": [],
   "source": [
    "trixels = merged.make_trixels(num_workers=n_workers*10, wrap_lon=False)"
   ]
  },
  {
   "cell_type": "markdown",
   "id": "0357187b-7276-438f-86e3-3b67ce06d7fd",
   "metadata": {},
   "source": [
    "## Splitting Antimeridian"
   ]
  },
  {
   "cell_type": "code",
   "execution_count": null,
   "id": "7629fa12-58fd-4edf-8a91-f88bfa0720b5",
   "metadata": {},
   "outputs": [],
   "source": [
    "merged.set_trixels(trixels, inplace=True)\n",
    "merged.split_antimeridian(inplace=True, drop=True, n_workers=n_workers*10)\n",
    "merged.set_geometry('trixels', inplace=True, crs='EPSG:4326')"
   ]
  },
  {
   "cell_type": "code",
   "execution_count": null,
   "id": "c90999ab-ad78-4f40-9c4e-5e37333ac2b6",
   "metadata": {},
   "outputs": [],
   "source": [
    "merged[merged.timestamp=='2022-05-22 00:00:00'].plot()"
   ]
  },
  {
   "cell_type": "code",
   "execution_count": null,
   "id": "a0342fe5",
   "metadata": {},
   "outputs": [],
   "source": [
    "with open(f'{data_dir}/pickles/featuredb.pickle', 'wb') as f:\n",
    "    pickle.dump(merged, f)"
   ]
  },
  {
   "cell_type": "code",
   "execution_count": null,
   "id": "287f30f0-a6c5-4195-8933-19c784423886",
   "metadata": {},
   "outputs": [],
   "source": [
    "with open(f'{data_dir}/pickles/featuredb.pickle', 'rb') as f:\n",
    "    merged = pickle.load( f)"
   ]
  },
  {
   "cell_type": "markdown",
   "id": "a17d5276-7dc0-43de-b5c4-9f91f1f5a933",
   "metadata": {},
   "source": [
    "## Write to gpkg"
   ]
  },
  {
   "cell_type": "code",
   "execution_count": null,
   "id": "8e688f22-26ff-4a4b-a7a4-276d14e02ee5",
   "metadata": {},
   "outputs": [],
   "source": [
    "import copy \n",
    "# Only taking n \n",
    "sdf = copy.copy(merged[merged.label<=99])\n",
    "\n",
    "sdf['sids_s'] = sdf.apply(lambda row : str(list(row['sids'])), axis = 1)\n",
    "sdf['cover_s'] = sdf.apply(lambda row : str(list(row['cover'])), axis = 1)\n",
    "sdf['precip_s'] = sdf.apply(lambda row : str(list(row['precips'])), axis = 1)\n",
    "sdf['areas_s'] = sdf.apply(lambda row : str(list(row['cell_areas'])), axis = 1)\n",
    "sdf['x_s'] = sdf.apply(lambda row : str(list(row['x'])), axis = 1)\n",
    "sdf['y_s'] = sdf.apply(lambda row : str(list(row['y'])), axis = 1)\n",
    "\n",
    "sub_df = sdf[['label','timestamp', 'sids_s', 'cover_s', 'precip_s', 'areas_s', 'x_s', 'y_s', 'trixels']]\n",
    "sub_df.to_file('{}/pickles/featuredb.gpkg'.format(data_dir), driver='GPKG')"
   ]
  },
  {
   "cell_type": "markdown",
   "id": "8cd6331a",
   "metadata": {},
   "source": [
    "# Create daily aggregate"
   ]
  },
  {
   "cell_type": "code",
   "execution_count": null,
   "id": "cbb11a23",
   "metadata": {},
   "outputs": [],
   "source": [
    "merged['date'] = merged['label'].astype('str') + '_' + merged['timestamp'].dt.date.astype('str')"
   ]
  },
  {
   "cell_type": "code",
   "execution_count": null,
   "id": "207b511e",
   "metadata": {},
   "outputs": [],
   "source": [
    "dates = merged.stare_dissolve(by='date', num_workers=n_workers*10)\n",
    "\n",
    "trixels = dates.make_trixels(num_workers=n_workers*10, wrap_lon=False)\n",
    "dates.set_trixels(trixels, inplace=True)\n",
    "dates.split_antimeridian(inplace=True, drop=True)\n",
    "dates.set_geometry('trixels', inplace=True, crs='EPSG:4326')"
   ]
  },
  {
   "cell_type": "code",
   "execution_count": null,
   "id": "d65d9ecc",
   "metadata": {},
   "outputs": [],
   "source": [
    "tot = merged[['date', 'tot_area', 'tot_precip']].groupby(by='date').agg('sum')\n",
    "dates = dates[['label', 'timestamp', 'sids', 'trixels']].join(tot)"
   ]
  },
  {
   "cell_type": "code",
   "execution_count": null,
   "id": "43870c0d",
   "metadata": {},
   "outputs": [],
   "source": [
    "with open('{}/pickles/dates.pickle'.format(data_dir), 'wb') as f:\n",
    "    pickle.dump(dates, f)"
   ]
  },
  {
   "cell_type": "code",
   "execution_count": null,
   "id": "d588b41f",
   "metadata": {},
   "outputs": [],
   "source": [
    "dates['sids'] = dates.apply(lambda row : str(list(row['sids'])), axis=1)\n",
    "dates.to_file('{}/pickles/dates.gpkg'.format(data_dir), driver='GPKG')"
   ]
  },
  {
   "cell_type": "code",
   "execution_count": null,
   "id": "dd329f90-3943-45a6-aa8e-33be55487ad0",
   "metadata": {},
   "outputs": [],
   "source": [
    "#dates['sids'] = dates.apply(lambda row: row['sids'].strip('][').split(', '), axis=1)\n",
    "#dates['sids'] = dates['sids'].apply(lambda row: list(map(int, row)))"
   ]
  },
  {
   "cell_type": "code",
   "execution_count": null,
   "id": "1ccfc44c-daaa-44ee-9063-d1a7116f430b",
   "metadata": {},
   "outputs": [],
   "source": [
    "1"
   ]
  },
  {
   "cell_type": "code",
   "execution_count": null,
   "id": "8bcff8fd-8ae8-4407-acfa-b9e4a7bd43c5",
   "metadata": {},
   "outputs": [],
   "source": []
  }
 ],
 "metadata": {
  "kernelspec": {
   "display_name": "ccl2",
   "language": "python",
   "name": "ccl2"
  },
  "language_info": {
   "codemirror_mode": {
    "name": "ipython",
    "version": 3
   },
   "file_extension": ".py",
   "mimetype": "text/x-python",
   "name": "python",
   "nbconvert_exporter": "python",
   "pygments_lexer": "ipython3",
   "version": "3.10.6"
  }
 },
 "nbformat": 4,
 "nbformat_minor": 5
}
