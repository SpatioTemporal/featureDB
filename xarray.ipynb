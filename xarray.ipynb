{
 "cells": [
  {
   "cell_type": "code",
   "execution_count": 5,
   "id": "78d76357-a3d3-44e8-8f9e-1ebc1c760642",
   "metadata": {},
   "outputs": [],
   "source": [
    "import xarray"
   ]
  },
  {
   "cell_type": "code",
   "execution_count": 6,
   "id": "66e69480-cf14-4a00-b845-72286c6140d8",
   "metadata": {},
   "outputs": [
    {
     "ename": "NameError",
     "evalue": "name 'largest' is not defined",
     "output_type": "error",
     "traceback": [
      "\u001b[0;31m---------------------------------------------------------------------------\u001b[0m",
      "\u001b[0;31mNameError\u001b[0m                                 Traceback (most recent call last)",
      "Input \u001b[0;32mIn [6]\u001b[0m, in \u001b[0;36m<module>\u001b[0;34m\u001b[0m\n\u001b[0;32m----> 1\u001b[0m x \u001b[38;5;241m=\u001b[39m xarray\u001b[38;5;241m.\u001b[39mDataArray(data\u001b[38;5;241m=\u001b[39m\u001b[43mlargest\u001b[49m, \n\u001b[1;32m      2\u001b[0m                      dims\u001b[38;5;241m=\u001b[39m[\u001b[38;5;124m'\u001b[39m\u001b[38;5;124mtime\u001b[39m\u001b[38;5;124m'\u001b[39m, \u001b[38;5;124m'\u001b[39m\u001b[38;5;124mlat\u001b[39m\u001b[38;5;124m'\u001b[39m, \u001b[38;5;124m'\u001b[39m\u001b[38;5;124mlon\u001b[39m\u001b[38;5;124m'\u001b[39m],\n\u001b[1;32m      3\u001b[0m                      coords\u001b[38;5;241m=\u001b[39m{\u001b[38;5;124m'\u001b[39m\u001b[38;5;124mtime\u001b[39m\u001b[38;5;124m'\u001b[39m: timestamps_np,\n\u001b[1;32m      4\u001b[0m                              \u001b[38;5;124m'\u001b[39m\u001b[38;5;124mlat\u001b[39m\u001b[38;5;124m'\u001b[39m: numpy\u001b[38;5;241m.\u001b[39marange(\u001b[38;5;241m-\u001b[39m\u001b[38;5;241m90\u001b[39m,\u001b[38;5;241m90\u001b[39m,\u001b[38;5;241m0.1\u001b[39m),\n\u001b[1;32m      5\u001b[0m                              \u001b[38;5;124m'\u001b[39m\u001b[38;5;124mlon\u001b[39m\u001b[38;5;124m'\u001b[39m: numpy\u001b[38;5;241m.\u001b[39marange(\u001b[38;5;241m-\u001b[39m\u001b[38;5;241m180\u001b[39m,\u001b[38;5;241m180\u001b[39m,\u001b[38;5;241m0.1\u001b[39m),\n\u001b[1;32m      6\u001b[0m                              \u001b[38;5;124m'\u001b[39m\u001b[38;5;124mreference_time\u001b[39m\u001b[38;5;124m'\u001b[39m: timestamps_np[\u001b[38;5;241m0\u001b[39m]},\n\u001b[1;32m      7\u001b[0m                      attrs\u001b[38;5;241m=\u001b[39m{\u001b[38;5;124m'\u001b[39m\u001b[38;5;124mdescription\u001b[39m\u001b[38;5;124m'\u001b[39m: \u001b[38;5;124m'\u001b[39m\u001b[38;5;124mlabel\u001b[39m\u001b[38;5;124m'\u001b[39m})\n",
      "\u001b[0;31mNameError\u001b[0m: name 'largest' is not defined"
     ]
    }
   ],
   "source": [
    "x = xarray.DataArray(data=largest, \n",
    "                     dims=['time', 'lat', 'lon'],\n",
    "                     coords={'time': timestamps_np,\n",
    "                             'lat': numpy.arange(-90,90,0.1),\n",
    "                             'lon': numpy.arange(-180,180,0.1),\n",
    "                             'reference_time': timestamps_np[0]},\n",
    "                     attrs={'description': 'label'})"
   ]
  },
  {
   "cell_type": "code",
   "execution_count": 2,
   "id": "6218ec62-edd2-48eb-819e-3ce2558937fe",
   "metadata": {},
   "outputs": [
    {
     "ename": "NameError",
     "evalue": "name 'xarray' is not defined",
     "output_type": "error",
     "traceback": [
      "\u001b[0;31m---------------------------------------------------------------------------\u001b[0m",
      "\u001b[0;31mNameError\u001b[0m                                 Traceback (most recent call last)",
      "Input \u001b[0;32mIn [2]\u001b[0m, in \u001b[0;36m<module>\u001b[0;34m\u001b[0m\n\u001b[0;32m----> 1\u001b[0m ds \u001b[38;5;241m=\u001b[39m \u001b[43mxarray\u001b[49m\u001b[38;5;241m.\u001b[39mDataset({\u001b[38;5;124m'\u001b[39m\u001b[38;5;124mlabel\u001b[39m\u001b[38;5;124m'\u001b[39m: x})\n",
      "\u001b[0;31mNameError\u001b[0m: name 'xarray' is not defined"
     ]
    }
   ],
   "source": [
    "ds = xarray.Dataset({'label': x})"
   ]
  },
  {
   "cell_type": "code",
   "execution_count": 3,
   "id": "06ab6c47-2495-4ebc-992f-dfb97a5f5971",
   "metadata": {},
   "outputs": [
    {
     "ename": "NameError",
     "evalue": "name 'ds' is not defined",
     "output_type": "error",
     "traceback": [
      "\u001b[0;31m---------------------------------------------------------------------------\u001b[0m",
      "\u001b[0;31mNameError\u001b[0m                                 Traceback (most recent call last)",
      "Input \u001b[0;32mIn [3]\u001b[0m, in \u001b[0;36m<module>\u001b[0;34m\u001b[0m\n\u001b[0;32m----> 1\u001b[0m \u001b[43mds\u001b[49m\u001b[38;5;241m.\u001b[39msel(time\u001b[38;5;241m=\u001b[39m\u001b[38;5;124m'\u001b[39m\u001b[38;5;124m2021-01-10T00:00\u001b[39m\u001b[38;5;124m'\u001b[39m)\n",
      "\u001b[0;31mNameError\u001b[0m: name 'ds' is not defined"
     ]
    }
   ],
   "source": [
    "ds.sel(time='2021-01-10T00:00')"
   ]
  },
  {
   "cell_type": "code",
   "execution_count": null,
   "id": "0a0516d6-230d-4f34-9804-c6a5bfbc51c2",
   "metadata": {},
   "outputs": [],
   "source": [
    "label1 = x.where(x==2, drop=True)"
   ]
  },
  {
   "cell_type": "code",
   "execution_count": 4,
   "id": "7ad707d1-91d5-4cdc-b486-5faa9892ac75",
   "metadata": {},
   "outputs": [
    {
     "ename": "NameError",
     "evalue": "name 'label1' is not defined",
     "output_type": "error",
     "traceback": [
      "\u001b[0;31m---------------------------------------------------------------------------\u001b[0m",
      "\u001b[0;31mNameError\u001b[0m                                 Traceback (most recent call last)",
      "Input \u001b[0;32mIn [4]\u001b[0m, in \u001b[0;36m<module>\u001b[0;34m\u001b[0m\n\u001b[0;32m----> 1\u001b[0m \u001b[43mlabel1\u001b[49m\u001b[38;5;241m.\u001b[39misel(time\u001b[38;5;241m=\u001b[39m\u001b[38;5;241m2\u001b[39m)\u001b[38;5;241m.\u001b[39mplot()\n",
      "\u001b[0;31mNameError\u001b[0m: name 'label1' is not defined"
     ]
    }
   ],
   "source": [
    "label1.isel(time=2).plot()\n",
    "#label1.isel(time=2).lon"
   ]
  },
  {
   "cell_type": "code",
   "execution_count": null,
   "id": "e31f5b42-3191-4894-a899-9b3e0abfdd00",
   "metadata": {},
   "outputs": [],
   "source": [
    "ds.where({'label':1}, drop=True).sel(time='2021-01-10T00:00')"
   ]
  }
 ],
 "metadata": {
  "kernelspec": {
   "display_name": "Python 3 (ipykernel)",
   "language": "python",
   "name": "python3"
  },
  "language_info": {
   "codemirror_mode": {
    "name": "ipython",
    "version": 3
   },
   "file_extension": ".py",
   "mimetype": "text/x-python",
   "name": "python",
   "nbconvert_exporter": "python",
   "pygments_lexer": "ipython3",
   "version": "3.9.9"
  }
 },
 "nbformat": 4,
 "nbformat_minor": 5
}
