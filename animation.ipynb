{
 "cells": [
  {
   "cell_type": "code",
   "execution_count": null,
   "id": "e6b787e1-1924-4e92-b212-990a8cd54e80",
   "metadata": {},
   "outputs": [],
   "source": []
  },
  {
   "cell_type": "code",
   "execution_count": null,
   "id": "9aa97a81-940f-41ff-85eb-28b64350e51f",
   "metadata": {},
   "outputs": [],
   "source": [
    "fig = plt.figure(figsize=(8, 4), dpi=300)\n",
    "ax = fig.add_subplot(111)\n",
    "\n",
    "m = Basemap(projection='cyl')\n",
    "#m = Basemap(projection='moll', lon_0=-105)\n",
    "#m = Basemap(projection='ortho', lon_0=0, lat_0=0, resolution='l')\n",
    "#m = Basemap(projection='geos', lon_0=-65, lat_0=-30, satellite_height=h*1000, resolution='l')\n",
    "\n",
    "m.drawcoastlines(0.1)\n",
    "m.drawparallels(numpy.arange(-90.,120.,30.), linewidth=0.1)\n",
    "m.drawmeridians(numpy.arange(0, 360, 30), linewidth=0.1)\n",
    "\n",
    "#m.fillcontinents(color='coral', lake_color='coral')\n",
    "#m.drawlsmask(land_color = \"#ddaa66\", ocean_color=\"#7777ff\", resolution = 'l')\n",
    "#m.drawmapboundary(fill_color='aqua')\n",
    "\n",
    "ax.imshow(numpy.fliplr(numpy.rot90(data.T, 3)), extent=[-180, 180, -90, 90], alpha=0.7)\n",
    "\n",
    "frames = []\n",
    "for row in sdf[sdf.label==1].trixels:\n",
    "    patches = []\n",
    "    for subpoly in row.geoms:        \n",
    "        patch = make_patch(subpoly, m)\n",
    "        patches.append(patch)\n",
    "    frames.append(patches)\n",
    "    \n",
    "frame = matplotlib.collections.PatchCollection(frames[0])\n",
    "frame.set(edgecolor='red', linewidth=0.2, facecolor='white')\n",
    "ax.add_collection(frame)\n",
    "\n",
    "def animate(i):\n",
    "    frame.set_paths(frames[i])\n",
    "    ax.set_title(sdf.timestamp[i])\n",
    "    \n",
    "anim = matplotlib.animation.FuncAnimation(fig, animate, frames=len(frames), interval=100, blit=False)\n",
    "\n",
    "anim.save('animations/trixels.mp4', fps=10)\n",
    "anim.save('animations/trixels.gif', fps=10)\n",
    "plt.show()"
   ]
  }
 ],
 "metadata": {
  "kernelspec": {
   "display_name": "ccl",
   "language": "python",
   "name": "ccl"
  },
  "language_info": {
   "codemirror_mode": {
    "name": "ipython",
    "version": 3
   },
   "file_extension": ".py",
   "mimetype": "text/x-python",
   "name": "python",
   "nbconvert_exporter": "python",
   "pygments_lexer": "ipython3",
   "version": "3.9.7"
  }
 },
 "nbformat": 4,
 "nbformat_minor": 5
}
