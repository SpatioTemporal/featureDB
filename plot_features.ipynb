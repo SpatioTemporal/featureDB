{
 "cells": [
  {
   "cell_type": "code",
   "execution_count": 29,
   "id": "8e752970-f129-4168-9056-8394b3e8c1c1",
   "metadata": {},
   "outputs": [],
   "source": [
    "%matplotlib widget\n",
    "import matplotlib\n",
    "import matplotlib.pyplot as plt\n",
    "from matplotlib import animation\n",
    "import numpy\n",
    "import pickle\n",
    "import shapely"
   ]
  },
  {
   "cell_type": "code",
   "execution_count": 31,
   "id": "5335eba3-b660-420e-a8fd-e78b79af3152",
   "metadata": {},
   "outputs": [],
   "source": [
    "with open('pickles/featuredb.pickle', 'rb') as f:\n",
    "    sdf = pickle.load( f)"
   ]
  },
  {
   "cell_type": "code",
   "execution_count": 26,
   "id": "b2d397ae-6e95-4312-abad-459771a48340",
   "metadata": {},
   "outputs": [],
   "source": [
    "import os\n",
    "os.environ['PROJ_LIB'] = '~/miniconda3/envs/ccl/share/proj/'\n",
    "from mpl_toolkits.basemap import Basemap"
   ]
  },
  {
   "cell_type": "code",
   "execution_count": 27,
   "id": "723e9965-0710-49b4-9e72-67453972f531",
   "metadata": {},
   "outputs": [],
   "source": [
    "def make_patch(polygon, m):\n",
    "    polygon = shapely.ops.transform(m, polygon)\n",
    "    path = matplotlib.path.Path(numpy.asarray(polygon.exterior.coords)[:,:2])\n",
    "    patch = matplotlib.patches.PathPatch(path)\n",
    "    return patch"
   ]
  },
  {
   "cell_type": "code",
   "execution_count": 37,
   "id": "fd78d1ee-f286-4c08-8ff0-0dc32ffc9ab9",
   "metadata": {},
   "outputs": [
    {
     "data": {
      "text/plain": [
       "Timestamp('2021-01-10 00:00:00')"
      ]
     },
     "execution_count": 37,
     "metadata": {},
     "output_type": "execute_result"
    }
   ],
   "source": [
    "sdf.timestamp[0]"
   ]
  },
  {
   "cell_type": "code",
   "execution_count": null,
   "id": "781ad683-f9d9-4dbc-b565-3b329c827c68",
   "metadata": {},
   "outputs": [],
   "source": [
    "fig = plt.figure(figsize=(8, 8), dpi=200)\n",
    "ax = fig.add_subplot(111)\n",
    "\n",
    "m = Basemap(projection='cyl')\n",
    "#m = Basemap(projection='moll', lon_0=-105)\n",
    "#m = Basemap(projection='ortho', lon_0=-65, lat_0=-30, resolution='l')\n",
    "#m = Basemap(projection='nsper', lon_0=-65, lat_0=-30, satellite_height=h*1000, resolution='l')\n",
    "\n",
    "m.drawcoastlines(0.1)\n",
    "m.drawparallels(numpy.arange(-90.,120.,30.), linewidth=0.1)\n",
    "m.drawmeridians(numpy.arange(0, 360, 30), linewidth=0.1)\n",
    "\n",
    "#m.fillcontinents(color='coral', lake_color='coral')\n",
    "#m.drawlsmask(land_color = \"#ddaa66\", ocean_color=\"#7777ff\", resolution = 'l')\n",
    "#m.drawmapboundary(fill_color='aqua')\n",
    "\n",
    "frames = []\n",
    "for row in sdf.trixels:\n",
    "    patches = []\n",
    "    for subpoly in row.geoms:        \n",
    "        patch = make_patch(subpoly, m)\n",
    "        patches.append(patch)\n",
    "    frames.append(patches)\n",
    "    \n",
    "frame = matplotlib.collections.PatchCollection(frames[0])\n",
    "frame.set(edgecolor='red', linewidth=0.2, facecolor='white')\n",
    "ax.add_collection(frame)\n",
    "\n",
    "def animate(i):\n",
    "    frame.set_paths(frames[i])\n",
    "    ax.set_title(sdf.timestamp[i])\n",
    "    \n",
    "anim = matplotlib.animation.FuncAnimation(fig, animate, frames=len(frames), interval=100, blit=False)\n",
    "\n",
    "anim.save('animations/trixels.mp4', fps=10)\n",
    "anim.save('animations/trixels.gif', fps=10)\n",
    "plt.show()"
   ]
  },
  {
   "cell_type": "code",
   "execution_count": null,
   "id": "ba7b7527-d5b1-450e-b342-18c2fdad04bb",
   "metadata": {},
   "outputs": [],
   "source": []
  }
 ],
 "metadata": {
  "kernelspec": {
   "display_name": "Python 3 (ipykernel)",
   "language": "python",
   "name": "python3"
  },
  "language_info": {
   "codemirror_mode": {
    "name": "ipython",
    "version": 3
   },
   "file_extension": ".py",
   "mimetype": "text/x-python",
   "name": "python",
   "nbconvert_exporter": "python",
   "pygments_lexer": "ipython3",
   "version": "3.9.9"
  }
 },
 "nbformat": 4,
 "nbformat_minor": 5
}
