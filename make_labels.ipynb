{
 "cells": [
  {
   "cell_type": "code",
   "execution_count": 1,
   "metadata": {},
   "outputs": [],
   "source": [
    "import cc3d\n",
    "import netCDF4\n",
    "import glob\n",
    "import numpy\n",
    "import sys\n",
    "import datetime\n",
    "import pickle"
   ]
  },
  {
   "cell_type": "code",
   "execution_count": 2,
   "metadata": {},
   "outputs": [],
   "source": [
    "data_dir = '/tablespace/xcal/'"
   ]
  },
  {
   "cell_type": "markdown",
   "metadata": {},
   "source": [
    "# Loading the data"
   ]
  },
  {
   "cell_type": "code",
   "execution_count": 3,
   "metadata": {},
   "outputs": [],
   "source": [
    "def load_imerg(file_path, variable_name):\n",
    "    netcdf = netCDF4.Dataset(file_path, 'r', format='NETCDF4')\n",
    "    data = netcdf.groups['Grid'][variable_name][:][0].T[::-1]\n",
    "    file_header = netcdf.FileHeader.split(';\\n')\n",
    "    file_header.remove('')\n",
    "    header = {r.split('=')[0]: r.split('=')[1] for r in file_header}\n",
    "    return data, header"
   ]
  },
  {
   "cell_type": "code",
   "execution_count": 4,
   "metadata": {
    "scrolled": true
   },
   "outputs": [
    {
     "name": "stdout",
     "output_type": "stream",
     "text": [
      "1000\r"
     ]
    }
   ],
   "source": [
    "file_paths = sorted(glob.glob(data_dir + 'imerg/3B-HHR.MS.MRG.3IMERG*'))\n",
    "variable_name = 'precipitationCal'\n",
    "\n",
    "stack = []\n",
    "headers = []\n",
    "timestamps = []\n",
    "for file_path in file_paths:\n",
    "    print('{}'.format(len(file_paths)-len(stack)), end='\\r')\n",
    "    sys.stdout.flush()\n",
    "    data, header = load_imerg(file_path, variable_name)\n",
    "    stack.append(data)\n",
    "    headers.append(header)\n",
    "    timestamps.append(header['StartGranuleDateTime'])\n",
    "    \n",
    "data = numpy.array(stack)\n",
    "\n",
    "timestamps_dt = [datetime.datetime.strptime(date, '%Y-%m-%dT%H:%M:%S.000Z') for date in timestamps]\n",
    "timestamps_np = numpy.array(timestamps_dt, dtype='datetime64[m]')"
   ]
  },
  {
   "cell_type": "code",
   "execution_count": 5,
   "metadata": {},
   "outputs": [],
   "source": [
    "with open('{}/pickles/data.pickle'.format(data_dir), 'wb') as f:\n",
    "    pickle.dump(data, f)"
   ]
  },
  {
   "cell_type": "markdown",
   "metadata": {},
   "source": [
    "# Thresholding and CCLs"
   ]
  },
  {
   "cell_type": "code",
   "execution_count": 6,
   "metadata": {},
   "outputs": [],
   "source": [
    "thresh = 0.1\n",
    "data[data<thresh] = 0\n",
    "data[data>=thresh] = 1\n",
    "\n",
    "connectivity = 6 \n",
    "min_voxels = 100"
   ]
  },
  {
   "cell_type": "code",
   "execution_count": 7,
   "metadata": {},
   "outputs": [],
   "source": [
    "labels = cc3d.connected_components(data, \n",
    "                                   delta=0,\n",
    "                                   connectivity=connectivity)"
   ]
  },
  {
   "cell_type": "code",
   "execution_count": 8,
   "metadata": {
    "scrolled": true
   },
   "outputs": [],
   "source": [
    "labels = cc3d.dust(labels, \n",
    "                   threshold=min_voxels, \n",
    "                   connectivity=connectivity, \n",
    "                   in_place=False)"
   ]
  },
  {
   "cell_type": "code",
   "execution_count": 9,
   "metadata": {},
   "outputs": [],
   "source": [
    "label_names = numpy.unique(labels[labels>0])"
   ]
  },
  {
   "cell_type": "code",
   "execution_count": 12,
   "metadata": {},
   "outputs": [
    {
     "data": {
      "text/plain": [
       "(94723,)"
      ]
     },
     "execution_count": 12,
     "metadata": {},
     "output_type": "execute_result"
    }
   ],
   "source": [
    "label_names.shape"
   ]
  },
  {
   "cell_type": "code",
   "execution_count": null,
   "metadata": {},
   "outputs": [],
   "source": [
    "largest, N = cc3d.largest_k(labels, \n",
    "                            k=100, \n",
    "                            connectivity=connectivity, \n",
    "                            delta=0, \n",
    "                            return_N=True)"
   ]
  },
  {
   "cell_type": "markdown",
   "metadata": {},
   "source": [
    "# Pickle"
   ]
  },
  {
   "cell_type": "code",
   "execution_count": null,
   "metadata": {},
   "outputs": [],
   "source": [
    "with open('{}/pickles/largest.pickle'.format(data_dir), 'wb') as f:\n",
    "    pickle.dump(largest, f)\n",
    "\n",
    "with open('{}/pickles/labels.pickle'.format(data_dir), 'wb') as f:\n",
    "    pickle.dump(labels, f)\n",
    "    \n",
    "with open('{}/pickles/timestamps.pickle'.format(data_dir), 'wb') as f:\n",
    "    pickle.dump(timestamps_dt, f)"
   ]
  },
  {
   "cell_type": "code",
   "execution_count": null,
   "metadata": {},
   "outputs": [],
   "source": [
    "N"
   ]
  }
 ],
 "metadata": {
  "kernelspec": {
   "display_name": "ccl",
   "language": "python",
   "name": "ccl"
  },
  "language_info": {
   "codemirror_mode": {
    "name": "ipython",
    "version": 3
   },
   "file_extension": ".py",
   "mimetype": "text/x-python",
   "name": "python",
   "nbconvert_exporter": "python",
   "pygments_lexer": "ipython3",
   "version": "3.9.7"
  }
 },
 "nbformat": 4,
 "nbformat_minor": 4
}
