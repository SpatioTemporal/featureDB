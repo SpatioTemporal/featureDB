{
 "cells": [
  {
   "cell_type": "code",
   "execution_count": 1,
   "metadata": {},
   "outputs": [],
   "source": [
    "import cc3d\n",
    "import netCDF4\n",
    "import glob\n",
    "import numpy\n",
    "import sys\n",
    "import datetime\n",
    "import pickle"
   ]
  },
  {
   "cell_type": "markdown",
   "metadata": {},
   "source": [
    "# Loading the data"
   ]
  },
  {
   "cell_type": "code",
   "execution_count": 2,
   "metadata": {},
   "outputs": [],
   "source": [
    "def load_imerg(file_path, variable_name):\n",
    "    netcdf = netCDF4.Dataset(file_path, 'r', format='NETCDF4')\n",
    "    data = netcdf.groups['Grid'][variable_name][:][0].T[::-1]\n",
    "    file_header = netcdf.FileHeader.split(';\\n')\n",
    "    file_header.remove('')\n",
    "    header = {r.split('=')[0]: r.split('=')[1] for r in file_header}\n",
    "    return data, header"
   ]
  },
  {
   "cell_type": "code",
   "execution_count": 3,
   "metadata": {
    "scrolled": true
   },
   "outputs": [
    {
     "name": "stdout",
     "output_type": "stream",
     "text": [
      "10\r"
     ]
    }
   ],
   "source": [
    "file_paths = sorted(glob.glob('/tablespace/xcal/imerg/3B-HHR.MS.MRG.3IMERG*'))\n",
    "file_paths = sorted(glob.glob('data/imerg/3B-HHR.MS.MRG.3IMERG*'))\n",
    "variable_name = 'precipitationCal'\n",
    "\n",
    "stack = []\n",
    "headers = []\n",
    "timestamps = []\n",
    "for file_path in file_paths:\n",
    "    print('{}'.format(len(file_paths)-len(stack)), end='\\r')\n",
    "    sys.stdout.flush()\n",
    "    data, header = load_imerg(file_path, variable_name)\n",
    "    stack.append(data)\n",
    "    headers.append(header)\n",
    "    timestamps.append(header['StartGranuleDateTime'])\n",
    "    \n",
    "data = numpy.array(stack)\n",
    "\n",
    "timestamps_dt = [datetime.datetime.strptime(date, '%Y-%m-%dT%H:%M:%S.000Z') for date in timestamps]\n",
    "timestamps_np = numpy.array(timestamps_dt, dtype='datetime64[m]')"
   ]
  },
  {
   "cell_type": "markdown",
   "metadata": {},
   "source": [
    "# Thresholding and CCLs"
   ]
  },
  {
   "cell_type": "code",
   "execution_count": 4,
   "metadata": {},
   "outputs": [],
   "source": [
    "thresh = 1\n",
    "data[data<thresh] = 0\n",
    "data[data>=thresh] = 1\n",
    "\n",
    "connectivity = 6 \n",
    "min_voxels = 100"
   ]
  },
  {
   "cell_type": "code",
   "execution_count": 5,
   "metadata": {},
   "outputs": [],
   "source": [
    "labels = cc3d.connected_components(data, \n",
    "                                   delta=0,\n",
    "                                   connectivity=connectivity)"
   ]
  },
  {
   "cell_type": "code",
   "execution_count": 6,
   "metadata": {
    "scrolled": true
   },
   "outputs": [],
   "source": [
    "labels = cc3d.dust(labels, \n",
    "                   threshold=min_voxels, \n",
    "                   connectivity=connectivity, \n",
    "                   in_place=False)"
   ]
  },
  {
   "cell_type": "code",
   "execution_count": 8,
   "metadata": {},
   "outputs": [],
   "source": [
    "largest, N = cc3d.largest_k(labels, \n",
    "                            k=10, \n",
    "                            connectivity=connectivity, \n",
    "                            delta=0, \n",
    "                            return_N=True)"
   ]
  },
  {
   "cell_type": "markdown",
   "metadata": {},
   "source": [
    "# Pickle"
   ]
  },
  {
   "cell_type": "code",
   "execution_count": 9,
   "metadata": {},
   "outputs": [],
   "source": [
    "with open('pickles/largest.pickle', 'wb') as f:\n",
    "    pickle.dump(largest, f)\n",
    "\n",
    "with open('pickles/labels.pickle', 'wb') as f:\n",
    "    pickle.dump(labels, f)\n",
    "    \n",
    "with open('pickles/timestamps.pickle', 'wb') as f:\n",
    "    pickle.dump(timestamps_dt, f)"
   ]
  }
 ],
 "metadata": {
  "kernelspec": {
   "display_name": "Python 3 (ipykernel)",
   "language": "python",
   "name": "python3"
  },
  "language_info": {
   "codemirror_mode": {
    "name": "ipython",
    "version": 3
   },
   "file_extension": ".py",
   "mimetype": "text/x-python",
   "name": "python",
   "nbconvert_exporter": "python",
   "pygments_lexer": "ipython3",
   "version": "3.9.9"
  }
 },
 "nbformat": 4,
 "nbformat_minor": 4
}
